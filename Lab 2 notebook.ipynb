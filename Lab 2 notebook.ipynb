{
 "cells": [
  {
   "cell_type": "markdown",
   "metadata": {},
   "source": [
    "# Laboratory Experiment 2: Measuring Markers of Polluted Air\n",
    "## CHM410 / CHM1410\n",
    "\n",
    "Welcome to the data analysis workshop for this experiment. We will be using this Jupyter notebook to gently dip our toes into the pool that is scientific computing.  \n",
    "\n",
    "Here is an outline of what we'll be doing:  \n",
    "1. Introduction to programming with Python and using this notebook\n",
    "    1. [Basics](#basics)\n",
    "    2. [Comments](#comments)\n",
    "    3. [Variables](#variables)\n",
    "    4. [Types](#types)\n",
    "    5. [Lists](#lists)\n",
    "    6. [Packages](#packages)\n",
    "    7. [Functions and Methods](#methods)\n",
    "    8. [Numpy](#nparrays)\n",
    "2. [Loading your data](#loading)\n",
    "3. [Making basic plots](#plotting)\n",
    "4. [Maths and stats](#stats)\n",
    "5. [Creating publication quality figures](#figures)\n",
    "6. [Plotting on maps](#maps)\n",
    "6. [Saving/exporting your data](#saving)\n",
    "7. [Space for you to create your plots](#free_space)\n",
    "\n",
    "The table of contents also provides links for ease of navigation.  \n",
    "If you have prior experience with coding, Python, and/or Jupyter notebooks, feel free to take what you want from the following introduction and move on to the second section.  \n",
    "\n",
    "----"
   ]
  },
  {
   "cell_type": "markdown",
   "metadata": {},
   "source": [
    "<a id='basics'></a>\n",
    "\n",
    "## Just the basics\n",
    "Below this is a cell of code. Try running it by clicking inside the cell and then pressing __shift__ + __enter__ or clicking the __Run__ button on the toolbar at the top of the page. There is also a run button on the left of the cell that appears when your mouse hovers over the cell."
   ]
  },
  {
   "cell_type": "code",
   "execution_count": null,
   "metadata": {},
   "outputs": [],
   "source": [
    "print(\"Hello world\")"
   ]
  },
  {
   "cell_type": "markdown",
   "metadata": {},
   "source": [
    "You should see the printed phrase appear below the cell. Ultimately, this is what we use computers to do — provide us with output based on the input we give it. In order to get the expected output for our input, we are using a programming language called Python, and it is in fact a language! It has rules of syntax, grammar, and usage just like any human language. We're going to go over some basics of this language, just enough to get you used to looking at the code and making some changes. You'll learn enough to be able to make some great figures by the end!  \n",
    "\n",
    "---\n",
    "\n",
    "Your computer will try to interpret everything you tell it. So in programming you need to use language with precision, or else your code will give you an error. Try running the cells below to look at some errors."
   ]
  },
  {
   "cell_type": "code",
   "execution_count": null,
   "metadata": {},
   "outputs": [],
   "source": [
    "print(Hello world)"
   ]
  },
  {
   "cell_type": "code",
   "execution_count": null,
   "metadata": {},
   "outputs": [],
   "source": [
    "print \"Hello world\""
   ]
  },
  {
   "cell_type": "code",
   "execution_count": null,
   "metadata": {},
   "outputs": [],
   "source": [
    "print(\"Hello world)"
   ]
  },
  {
   "cell_type": "code",
   "execution_count": null,
   "metadata": {},
   "outputs": [],
   "source": [
    "pirnt(\"Hello world\")"
   ]
  },
  {
   "cell_type": "markdown",
   "metadata": {},
   "source": [
    "As you can see, there's not much forgiveness in doing something as simple as printing out a statement. We're going to go through a few Python concepts so you can figure out how to make your code run without errors.  \n",
    "\n",
    "It may be helpful going forward to click on \"View\" on the toolbar and select the option to \"toggle line numbers\". This will display line numbers on the left side of the code, which can be very useful."
   ]
  },
  {
   "cell_type": "markdown",
   "metadata": {},
   "source": [
    "<a id='comments'></a>\n",
    "\n",
    "## Comments\n",
    "\n",
    "Anyone who writes or uses code needs to know about comments. Comments are bits of text that programmers write into their code that your computer will ignore. Comments are incredibly important for understanding your own code and interpretting other people's code, and it is also useful for making your computer ignore some lines of code you don't want to use right now.  \n",
    "\n",
    "Comments are denoted with the __\\#__ symbol. Anything that appears in the line after the \\# symbol will be ignored by your computer. Look at the examples below to see how it works."
   ]
  },
  {
   "cell_type": "code",
   "execution_count": null,
   "metadata": {},
   "outputs": [],
   "source": [
    "# This is a comment\n",
    "print(\"This is not a comment\") # but this is a comment!"
   ]
  },
  {
   "cell_type": "markdown",
   "metadata": {},
   "source": [
    "As mentioned above, comments are important for communication, but are also just useful to \"turn off\" certain lines of code. We sometimes call this \"commenting out\" these lines of code. Try commenting out some lines in the code below by adding in the \\# symbol."
   ]
  },
  {
   "cell_type": "code",
   "execution_count": null,
   "metadata": {},
   "outputs": [],
   "source": [
    "var = 5 # this is a variable, which you'll see in the next example\n",
    "# if you comment out the line above, the rest of the code will give you an error.\n",
    "\n",
    "var = var + 8\n",
    "\n",
    "print(var)\n",
    "\n",
    "var += 1\n",
    "var -= 3\n",
    "\n",
    "print(var)\n",
    "\n",
    "var = var**2\n",
    "\n",
    "print(var)"
   ]
  },
  {
   "cell_type": "markdown",
   "metadata": {},
   "source": [
    "The rest of this notebook contains really helpful information in the comments. Feel free to add your own comments in wherever you'd like!"
   ]
  },
  {
   "cell_type": "markdown",
   "metadata": {},
   "source": [
    "<a id='variables'></a>\n",
    "\n",
    "## Declaring variables\n",
    "\n",
    "A variable is a place that Python stores information in. Variables are useful not only to store information, but also to make shortcuts for yourself. Continuing with the example we've been using..."
   ]
  },
  {
   "cell_type": "code",
   "execution_count": null,
   "metadata": {},
   "outputs": [],
   "source": [
    "statement = \"Hello world\"\n",
    "\n",
    "print(statement)"
   ]
  },
  {
   "cell_type": "markdown",
   "metadata": {},
   "source": [
    "We have stored some information in the variable named \"statement\" and then used that to tell your computer to print out the output. We declare the variable following the rule:  \n",
    "\n",
    "_variable name_ __=__ _information_  \n",
    "\n",
    "The name always goes to the left of the equal sign. Once we've declared the variable, we can just use the variable name to refer to the information stored in it. We can store new information in the same variable, but this will destroy the old information."
   ]
  },
  {
   "cell_type": "code",
   "execution_count": null,
   "metadata": {},
   "outputs": [],
   "source": [
    "var = 5\n",
    "print(var)\n",
    "var = 6\n",
    "print(var)"
   ]
  },
  {
   "cell_type": "markdown",
   "metadata": {},
   "source": [
    "We can also modify the information in the variable as we please. Python uses arithmetic operators similarly to how you might use them in an Excel formula. Check out the examples below. Feel free to test them out for yourself!"
   ]
  },
  {
   "cell_type": "code",
   "execution_count": null,
   "metadata": {},
   "outputs": [],
   "source": [
    "var0 = 5\n",
    "var1 = 13\n",
    "\n",
    "var0 = var0 + 2\n",
    "var0 = var0 + var1\n",
    "var0 = var0 - 5\n",
    "\n",
    "print(\"var0 = \", var0) # print commands can use commas to combine different objects or variables\n",
    "\n",
    "var1 = var1 / 2\n",
    "var1 = var1 * 3\n",
    "var1 = var1**2 # this is an exponent\n",
    "print(\"var1 = \", var1)\n",
    "\n",
    "\n",
    "#There are also some convenient ways to do arithmetic and overwrite a variable at the same time\n",
    "var0 = 5\n",
    "var0 += 6 # this will add 6 to the value of var0 and store it in var0\n",
    "print(var0)"
   ]
  },
  {
   "cell_type": "markdown",
   "metadata": {},
   "source": [
    "<a id='types'></a>\n",
    "\n",
    "## Types of information\n",
    "\n",
    "The concept of _type_ is important to understanding a lot of issues you may face when programming. A _type_ is a specific kind of information. Python will interpret types in different ways. We can think of this in terms of different kinds of data. Some data are integers, some data are text, some data are decimals, et cetera. Try running the code below to see these _types_.\n"
   ]
  },
  {
   "cell_type": "code",
   "execution_count": null,
   "metadata": {},
   "outputs": [],
   "source": [
    "# using the type() command will have the computer tell you what type of information is inside the parentheses\n",
    "\n",
    "print(type(1)) # this 1 is an integer\n",
    "\n",
    "print(type(1.0)) # this is called a float, which is basically a decimal number\n",
    "\n",
    "print(type(\"1.0\")) # this is called a string, which is interpretted as text\n",
    "#strings are created by placing quote marks around the information"
   ]
  },
  {
   "cell_type": "markdown",
   "metadata": {},
   "source": [
    "<a id='lists'></a>\n",
    "\n",
    "## Lists\n",
    "Next we'll look at some other very useful types that are a little more complicated.  \n",
    "A _list_ is an array of data, in a certain order. The data in a list can be many different types."
   ]
  },
  {
   "cell_type": "code",
   "execution_count": null,
   "metadata": {},
   "outputs": [],
   "source": [
    "numbers = [1, 2, 3] # a list is made by placing information inside square brackets. The data are separated with commas\n",
    "print(numbers)\n",
    "print(type(numbers))\n",
    "\n",
    "elements = [\"H\", \"He\", \"Li\"] # the data in this array are all strings (text)\n",
    "print(elements)\n",
    "\n",
    "mixture = [1, \"He\", 3.14] # the data in this array are of various types"
   ]
  },
  {
   "cell_type": "markdown",
   "metadata": {},
   "source": [
    "One of the important properties of lists is called _indexing_. Each entry in the list has a position. By convention, computer scientists count from zero. Your knowledge of this fact can be used to impress your computer scientist friends.  \n",
    "\n",
    "By telling the computer to use a certain _index_, you can access specific entries in your list. The syntax for _indexing_ is done with square brackets:\n",
    "\n",
    "_list name_\\[__index__\\]  \n",
    "\n",
    "Check out the example below. Try changing the index to access different entries in your list.  \n",
    "Try changing the index to a number larger than the number of entries in the list, remembering we start at zero!\n",
    "Try changing the index to -1 and to other negative numbers."
   ]
  },
  {
   "cell_type": "code",
   "execution_count": null,
   "metadata": {},
   "outputs": [],
   "source": [
    "elements = [\"H\", \"He\", \"Li\", \"Be\", \"B\"]\n",
    "\n",
    "entry = elements[3] # the index appears inside the square brackets\n",
    "\n",
    "print(entry)"
   ]
  },
  {
   "cell_type": "markdown",
   "metadata": {},
   "source": [
    "We can index across a list to get many parts of the list at once. This action is sometimes called a \"slice\". The syntax for a slice is:  \n",
    "\n",
    "_list name_\\[__start:end__\\]\n",
    "\n",
    "The value in the list at the __end__ position will not be included in the slice. Check out the example below to see how slicing works. Try changing the numbers in the slice."
   ]
  },
  {
   "cell_type": "code",
   "execution_count": null,
   "metadata": {},
   "outputs": [],
   "source": [
    "numbers = [1, 2, 3, 4, 5]\n",
    "\n",
    "entry = numbers[1:4] # this slice will go from the position 1 through 4\n",
    "\n",
    "print(entry)"
   ]
  },
  {
   "cell_type": "markdown",
   "metadata": {},
   "source": [
    "The : is a useful symbol for indicating ranges of values. You don't have to specify an end point or a beginning point, either."
   ]
  },
  {
   "cell_type": "code",
   "execution_count": null,
   "metadata": {},
   "outputs": [],
   "source": [
    "print(numbers[:2]) # this slice will include the values at positions 0 and 1, but nothing at 2 or after\n",
    "print(numbers[3:])\n",
    "print(numbers[:]) # a : with no other numbers will reproduce the whole list"
   ]
  },
  {
   "cell_type": "markdown",
   "metadata": {},
   "source": [
    "Understanding lists and indexes opens up a lot of possibilities. The example in the cell below shows how you can use the integers in one list (\"numbers\") as indices for another list (\"elements\")."
   ]
  },
  {
   "cell_type": "code",
   "execution_count": null,
   "metadata": {},
   "outputs": [],
   "source": [
    "numbers = [1, 2, 3, 4, 5]\n",
    "elements = [\"H\", \"He\", \"Li\", \"Be\", \"B\"]\n",
    "\n",
    "entry = elements[numbers[0]]\n",
    "\n",
    "print(entry)"
   ]
  },
  {
   "cell_type": "markdown",
   "metadata": {},
   "source": [
    "<a id='packages'></a>\n",
    "\n",
    "## Packages\n",
    "\n",
    "Now that we have an understanding of some of the basics, we can find out how to make the most of our coding experience. We could spend hours and hours manipulating the basic structures to give us our desired output, or we can rely on other smart people who have already done a lot of the work for us!  \n",
    "\n",
    "Packages are bodies of code that we can use to make our work faster and more convenient. There are many, many packages in Python for all kinds of applications. We'll be looking at and using some common science packages.  \n",
    "\n",
    "First let's learn how to use them! Ordinarily, you would first need to check to make sure a package is installed on your computer, but the University's Jupyter notebook service comes with many already installed. Thanks, IT department!  \n",
    "\n",
    "We need to \"import\" the package before we can use any of the contents."
   ]
  },
  {
   "cell_type": "code",
   "execution_count": null,
   "metadata": {},
   "outputs": [],
   "source": [
    "import math          # here we imported the \"math\" package\n",
    "import numpy as np   # here we imported a package called \"numpy\" and gave it a shorthand name for convenience\n",
    "from scipy import constants   # here we imported part of the \"scipy\" package called \"constants\""
   ]
  },
  {
   "cell_type": "code",
   "execution_count": null,
   "metadata": {},
   "outputs": [],
   "source": [
    "# Package contents can be accessed using a . and the name of the particular function you'd like to use\n",
    "print(math.log(4))\n",
    "\n",
    "# Ok try it out! In the space below, type in \"constants.\"\n",
    "# and then press the tab key. This will show you all the contents of the package available!\n",
    "# Choose some different ones by pressing enter or clicking on them and see if you can get them to work\n",
    "# Make sure you add a print() statement around it to see the output\n",
    "\n",
    "\n",
    "\n",
    "\n",
    "\n",
    "# just so you know, unfortunately the tab shortcut only works for some packages\n",
    "\n",
    "\n",
    "# Packages open up the possibilities of powerful computations\n",
    "sample_array = np.arange(0,100) # Here we have used the numpy package to produce a list of numbers from 0 to 99\n",
    "\n",
    "print(sample_array)\n",
    "\n",
    "print(np.sum(sample_array)) # numpy has many mathematical functions that make it easy to do operations on lists of numbers\n"
   ]
  },
  {
   "cell_type": "markdown",
   "metadata": {},
   "source": [
    "<a id='methods'></a>\n",
    "## Methods and functions and other package contents\n",
    "\n",
    "In the above example of the math package, we used a . to access the contents of the package. Some of these contents we used as __functions__ or __methods__, meaning we used a set of parentheses after it to \"call\" the function or method. The items inside the parentheses are called __arguments__, and they are required to be used in a specified order. This order has been indicated in the notebook for you where appropriate. Arguments can be __positional__, meaning they occur in a certain sequence inside the parentheses. Arguments can also be __keywords__, meaning they use a specific name and an equal sign to designate themselves.  \n",
    "\n",
    "Many of the package features we'll use today will be like these functions and methods. The packages also contain other objects. Look at the example below of a useful object in the numpy package:"
   ]
  },
  {
   "cell_type": "code",
   "execution_count": null,
   "metadata": {},
   "outputs": [],
   "source": [
    "print(np.pi)"
   ]
  },
  {
   "cell_type": "markdown",
   "metadata": {},
   "source": [
    "This object is not a function or method, so we don't use parentheses. If you use a function without parentheses or you try to use parentheses on some other object, you'll encounter an error. Keep this in mind as you start writing your own code."
   ]
  },
  {
   "cell_type": "markdown",
   "metadata": {},
   "source": [
    "<a id='nparrays'></a>\n",
    "\n",
    "## Arrays using numpy\n",
    "\n",
    "We've already seen the numpy package a little, but you'll need to get a little more familiar with it before we move on.  Numpy arrays are great, and they're a lot like the basic python lists we saw above.  \n",
    "\n",
    "The difference is that numpy arrays allow us to use \"array operations\", where the basic list type did not. Array operations means that we can perform mathematical operations and other such transformations to the entirety of a data set in one line of code. If we used a list, we'd have to apply the operation to each item in the list explicitly. If you want to learn more about that type of programming, you should read about python [\"for loops\"](https://www.dataquest.io/blog/python-for-loop-tutorial/). For loops will not be necessary for work in this notebook."
   ]
  },
  {
   "cell_type": "code",
   "execution_count": null,
   "metadata": {},
   "outputs": [],
   "source": [
    "# in the lines below, we create an array and then add 1 to all the elements in the array\n",
    "a = np.array([1,2,3,4,5,6])\n",
    "print(a)\n",
    "\n",
    "a = a + 1\n",
    "\n",
    "print(\"a + 1 =\",a)"
   ]
  },
  {
   "cell_type": "code",
   "execution_count": null,
   "metadata": {},
   "outputs": [],
   "source": [
    "# if we try the same thing with a list, it will cause an error\n",
    "a = list([1,2,3,4,5,6])\n",
    "print(a)\n",
    "\n",
    "a = a + 1"
   ]
  },
  {
   "cell_type": "markdown",
   "metadata": {},
   "source": [
    "Arrays can be one dimensional (like one column of data), or they can have mutliple dimensions. Two dimensional arrays can be very useful in doing array operations.\n",
    "One feature of numpy is being able to \"reshape\" an array. In this notebook, you may want to turn your 1-d array of data into a 2-d array so that you can do some operations on it.  \n",
    "\n",
    "The next cell shows an example of reshaping an array and then doing an operation on the array. "
   ]
  },
  {
   "cell_type": "code",
   "execution_count": null,
   "metadata": {},
   "outputs": [],
   "source": [
    "a = np.array([1,2,3,4,5,6])\n",
    "print(a)\n",
    "print(\"size =\", a.shape)  # the .shape attribute will tell you the length of your array in each dimension\n",
    "\n",
    "a = np.reshape(a,(3,2))\n",
    "print(a)\n",
    "print(\"reshaped size=\", a.shape)\n",
    "\n",
    "print(\"mean = \", a.mean(axis=1))  # this line demonstrates an operation on the reshaped array"
   ]
  },
  {
   "cell_type": "markdown",
   "metadata": {},
   "source": [
    "The array above was 6 elements long, and then we changed it to a 3 by 2 array. Take note of how the output gets shown with brackets. The mean on the last line was taken on the __axis__ we indicated. This tells the method if it should mean the rows or the columns of the 2-d array. In this case, axis 1 indicates the rows were meaned. You can already predict what will happen if we had used axis=0:"
   ]
  },
  {
   "cell_type": "code",
   "execution_count": null,
   "metadata": {},
   "outputs": [],
   "source": [
    "print(\"mean = \", a.mean(axis=0))"
   ]
  },
  {
   "cell_type": "markdown",
   "metadata": {},
   "source": [
    "There are many ways to write your code to do the same thing. Understanding array dimensions and axes can be pretty abstract, but you can always achieve the result you want. Have a look at the example below, where we reshape the array into a 2 by 3 array:"
   ]
  },
  {
   "cell_type": "code",
   "execution_count": null,
   "metadata": {},
   "outputs": [],
   "source": [
    "a = np.array([1,2,3,4,5,6])\n",
    "\n",
    "a = np.reshape(a,(2,3))\n",
    "print(a)\n",
    "print(\"reshaped size=\", a.shape)\n",
    "\n",
    "print(\"mean = \", a.mean(axis=0))  # what output will this produce?\n"
   ]
  },
  {
   "cell_type": "markdown",
   "metadata": {},
   "source": [
    "Maybe that was the result we wanted, but maybe we were trying to get the mean of every 3 values. This can either be changed in the reshaping, or we can do a transpose of the array:"
   ]
  },
  {
   "cell_type": "code",
   "execution_count": null,
   "metadata": {},
   "outputs": [],
   "source": [
    "print(a)\n",
    "\n",
    "b = np.transpose(a)  # the transpose function is applied to a\n",
    "\n",
    "print(\"transposed array= \", b)\n",
    "\n",
    "print(\"mean = \", b.mean(axis=0))"
   ]
  },
  {
   "cell_type": "markdown",
   "metadata": {},
   "source": [
    "That's just one small example of something you might encounter in doing your analysis, or in other scientific programming spaces.  \n",
    "\n",
    "One more aspect of numpy arrays you may want to know is how to use the index. In a 1-d array it is the same as the list type from earlier. With a 2-d array, you can use a comma to indicate how you'd like to treat the columns and rows."
   ]
  },
  {
   "cell_type": "code",
   "execution_count": null,
   "metadata": {},
   "outputs": [],
   "source": [
    "print(b)\n",
    "print(b[:,0])  # This will print all the values in the first column\n",
    "print(b[0,:])  # This will print all the values in the first row\n",
    "print(b[1,1])  # second column, second row value"
   ]
  },
  {
   "cell_type": "markdown",
   "metadata": {},
   "source": [
    "That's the end of this introduction to Python. In the next section you'll get to actually work with your data and make some visualizations, using what you learned so far. Much of the code you need has been written for you; you'll need to make some adjustments to names, indexes, etc. and commenting/uncommenting lines of code as you need them."
   ]
  },
  {
   "cell_type": "markdown",
   "metadata": {},
   "source": [
    "<a id='loading'></a>\n",
    "\n",
    "# Loading your data\n",
    "\n",
    "Before we go further, you'll need to upload your data onto the Jupyter hub. Go back to your browser tab where the folder __Lab2.git__ is open. In the upper right corner there is an __Upload__ button. Click and use your system dialog to select the files you'd like to use. These should be the raw data provided in the .csv file format. Your data files should then appear in the list of files. You should also see a file called \"sample.csv\" in the same folder \n",
    "\n",
    "\n",
    "The package we'll use for loading your data is called _pandas_. [Consult wikipedia](https://en.wikipedia.org/wiki/Pandas_(software)) if you're wondering why it's called that. The files are in .csv format, which you can open in most analysis software, including Microsoft Excel.  \n",
    "\n",
    "The next cell shows you an example of loading in a csv file."
   ]
  },
  {
   "cell_type": "code",
   "execution_count": null,
   "metadata": {},
   "outputs": [],
   "source": [
    "# import pandas package\n",
    "import pandas as pd\n",
    "\n",
    "filename = \"sample.csv\"\n",
    "\n",
    "data = pd.read_csv(filename) # this function will open the csv file and load it into your workspace\n",
    "\n",
    "print(data.columns) # this prints the names of the columns in the sample data set.\n",
    "print(data.head(5)) # this prints the first five rows of your data set.\n"
   ]
  },
  {
   "cell_type": "markdown",
   "metadata": {},
   "source": [
    "In practice, the files from the sensors used in the experiment have a slightly more complicated format than the sample above, but it is important to see how easy it is to read in a csv file.  So, your TA has prepared functions to load data from the Aeroqual sensors and the Airbeam2 sensor. These functions are stored in the Lab2_Functions python file. In the cell below, please change the variable called \"filename\" to the exact name of your uploaded Airbeam data file. Other than that, the cell is already set up to load your data. The function used to load your data from the airbeam is called OpenAirBeam2()  \n",
    "  \n",
    "You should try printing the first few lines of some of the data to make sure it worked."
   ]
  },
  {
   "cell_type": "code",
   "execution_count": null,
   "metadata": {},
   "outputs": [],
   "source": [
    "import Lab2_Functions as lab2  # This import statement will allow you to use the functions your TA has written\n",
    "\n",
    "filename = \"your file name.csv\"\n",
    "\n",
    "# The next line illustrates the use of the lab2 library\n",
    "pm_datetimes, pm_rel_time, pm_temp, pm1, pm10, pm2, pm_rh, pm_lats, pm_longs  = lab2.OpenAirBeam2(filename)\n",
    "#all of the objects on the left of the = are arrays containing your data\n",
    "# pm_datetimes contains formatted date information of the absolute time\n",
    "# pm_rel_time contains float values starting with 0 seconds counting up the relative time\n",
    "\n"
   ]
  },
  {
   "cell_type": "markdown",
   "metadata": {},
   "source": [
    "A note for these functions: they always supply you with the same data in order like that, but you can change the variable names to whatever you want. E.g. you can change \"pm_rel_time\" to \"time\", but you can't change that it comes second in the order.\n",
    "\n",
    "Let's load the rest of your data into arrays. The next two cells are set up similarly to the one above, showing the function for loading your Aeroqual monitor data. You'll need to change the file name."
   ]
  },
  {
   "cell_type": "code",
   "execution_count": null,
   "metadata": {},
   "outputs": [],
   "source": [
    "# Use this cell for loading CO2 monitor data\n",
    "\n",
    "filename = \"your file name.csv\"\n",
    "\n",
    "CO2_datetimes, CO2_rel_time, CO2_vmr = lab2.OpenAeroqual(filename)\n",
    "# absolute time and relative time are again included, and the concentration is in the CO2_vmr object\n",
    "# vmr stands for volume mixing ratio"
   ]
  },
  {
   "cell_type": "code",
   "execution_count": null,
   "metadata": {},
   "outputs": [],
   "source": [
    "# Use this cell for loading O3 montior data\n",
    "\n",
    "filename = \"your file name.csv\"\n",
    "\n",
    "O3_datetimes, O3_rel_time, O3_vmr = lab2.OpenAeroqual(filename)\n"
   ]
  },
  {
   "cell_type": "markdown",
   "metadata": {},
   "source": [
    "If you have more data you'd like to load, you can add more OpenAeroqual or OpenAirbeam2 lines above, or you can use the empty cell below. You don't need to use this cell if you don't have more data. You'll need to make sure you use the right filename, and you should change the variable name so you can differentiate between data sets.  \n",
    "\n",
    "__PRO TIP:__  \n",
    "If you want to work quickly without having to remember specific variable names, just type the first part of the name in, and press the tab key. A list of variables appear and you can select the one you want with arrow keys and then pressing enter. If there's only one variable it could possibly be, the variable name will autocomplete."
   ]
  },
  {
   "cell_type": "code",
   "execution_count": null,
   "metadata": {},
   "outputs": [],
   "source": [
    "# empty cell for loading more data\n",
    "\n"
   ]
  },
  {
   "cell_type": "markdown",
   "metadata": {},
   "source": [
    "<a id='plotting'></a>\n",
    "\n",
    "# Plotting your data\n",
    "\n",
    "If you've successfully loaded your data, next comes the fun part. We'll quickly try plotting some of these data. Exciting! The next cell of code is set up to plot your data in an interactive window. It should pop up on your screen, or you may have to click on the new window to see it. There are tools in the interactive window for you to zoom in and move about, as well as to adjust some of the appearance. If you find views of your data you think are interesting, you can save the current view with the save button."
   ]
  },
  {
   "cell_type": "code",
   "execution_count": null,
   "metadata": {},
   "outputs": [],
   "source": [
    "# The matplotlib package is a ubiquitous Python plotting package. \n",
    "import matplotlib.pyplot as plt\n",
    "# It also has helpful code for dealing with different kinds of data, such as dates\n",
    "import matplotlib.dates as mdates\n",
    "\n",
    "\n",
    "# These next lines determine how the plot will appear on your computer.\n",
    "# Comment and uncomment the lines starting with \"%\" to try them out\n",
    "\n",
    "# The next line is a bit of magic that makes the plot appear in a new interactive window\n",
    "%matplotlib notebook \n",
    "\n",
    "# This next line will make the plot appear in the page, but you won't be able to interact with it.\n",
    "#%matplotlib inline     \n",
    "\n",
    "\n",
    "# These next lines are the actual plotting code.\n",
    "\n",
    "#fig,ax = plt.subplots()                          # This creates a blank canvas to plot on\n",
    "\n",
    "plt.plot(pm_rel_time, pm1, '.-')  # This \"plot\" function is what puts your data on the figure\n",
    "plt.plot(pm_rel_time, pm2, '.-')\n",
    "plt.plot(pm_rel_time, pm10, '.-')\n",
    "\n",
    "#plt.show()                                       # This line displays the plot"
   ]
  },
  {
   "cell_type": "markdown",
   "metadata": {},
   "source": [
    "The plt.plot function used above is very powerful and you'll be using it a bit going forward. The usage is:  \n",
    "\n",
    "plt.plot(__x axis data__, __y axis data__, _symbol code_)  \n",
    "\n",
    "the symbol code can change how the data appear on your figure. Try changing it to the following and replotting.  \n",
    "'x'  \n",
    "'--'  \n",
    "'x--g'  \n",
    "\n",
    "Using the plt.plot function on several lines allows you to add multiple data to the plot, and it automatically colours the points. You can also change the colour with the symbol code, and there are more details about colour in the next section.  \n",
    "\n",
    "When looking at your data, you might want to know exactly which data point you're looking at. In this case you can add labels to your plot to help you identify the x value, y value, and x index of individual points. The Lab2 Functions package has a function that will add point labels for you. See the example below:"
   ]
  },
  {
   "cell_type": "code",
   "execution_count": null,
   "metadata": {
    "scrolled": false
   },
   "outputs": [],
   "source": [
    "# interactive plot style\n",
    "%matplotlib notebook \n",
    "\n",
    "\n",
    "x = np.linspace(0, 2.2, 100)  # this creates an array of 100 x values from 0 to 2.2\n",
    "\n",
    "y = x**2 +3*x + 0.3  # creating a y series\n",
    "\n",
    "fig,ax = plt.subplots()    # create a blank canvas\n",
    "\n",
    "plt.plot(x, y, '.')    # plot x vs y in points\n",
    "\n",
    "lab2.PointLabels(x, y, 5, plot_index=False)  \n",
    "# the function requires arguments in order: x values, y values, number of points between labels (every nth label)\n",
    "# the plot_index function can be set to True or to False\n",
    "# this changes the label from showing the x value to the x index instead\n",
    "\n",
    "plt.show()"
   ]
  },
  {
   "cell_type": "markdown",
   "metadata": {},
   "source": [
    "The next cell includes lines allowing you to adjust the figure size and appearance and assign axis labels."
   ]
  },
  {
   "cell_type": "code",
   "execution_count": null,
   "metadata": {},
   "outputs": [],
   "source": [
    "fig,ax = plt.subplots(figsize=(4,4))\n",
    "# creating a blank canvas with a size 4 inch by 4 inch\n",
    "\n",
    "fig.set_size_inches(6.5,3)\n",
    "# this will change the already created canvas size, as an alternative to the above\n",
    "\n",
    "plt.rcParams.update({\"font.size\":12})\n",
    "# change the default font size for the plot\n",
    "\n",
    "fig.set_dpi(300)\n",
    "# change the resolution of the figure in dots per inch\n",
    "\n",
    "plt.ylabel(\"velocity, m s-1\")\n",
    "# add a label to the y axis\n",
    "\n",
    "plt.xlabel(\"time, s\")\n",
    "# add a label to the y axis\n",
    "\n",
    "plt.tight_layout()\n",
    "# a function that automatically reduces empty space around the canvas\n",
    "\n"
   ]
  },
  {
   "cell_type": "markdown",
   "metadata": {},
   "source": [
    "Histograms can be very useful for understanding distributions of data. They are easy to create, and you can adjust the number of histogram bins easily"
   ]
  },
  {
   "cell_type": "code",
   "execution_count": null,
   "metadata": {
    "scrolled": true
   },
   "outputs": [],
   "source": [
    "plt.hist(y, bins=20)"
   ]
  },
  {
   "cell_type": "markdown",
   "metadata": {},
   "source": [
    "Do you want to use the absolute date time data on the x axis? This isn't always necessary since relative time is often easier to deal with, but if you need to indicate a specific time of day or for any other reason, you can follow the example:"
   ]
  },
  {
   "cell_type": "code",
   "execution_count": null,
   "metadata": {},
   "outputs": [],
   "source": [
    "import matplotlib.dates as mdates  # this package is a date plotting helper\n",
    "\n",
    "fig, ax = plt.subplots()  # blank canvas\n",
    "\n",
    "plt.plot(CO2_datetimes, CO2_vmr, '.')  #plot using absolute time\n",
    "\n",
    "\n",
    "# The next three lines should all be used when plotting with absolute time\n",
    "time_format = mdates.DateFormatter('%H:%M:%S')  # This sets the time to show hours:minutes:seconds\n",
    "ax.xaxis.set_major_formatter(time_format)  # This applies the format to the x axis\n",
    "fig.autofmt_xdate()  # This automatically rotates the labels to fit\n",
    "\n",
    "plt.show()"
   ]
  },
  {
   "cell_type": "markdown",
   "metadata": {},
   "source": [
    "Take some time to explore your data. You can create more plots in the empty cell below, or just edit the one above. Use point labels to record important ranges. Remember to save any figures you think are interesting. If you use the interactive plot (%matplotlib notebook), you can save with the button. If you use the inline plot (%matplotlib inline) you can right click and save the image. You can also use the savefig function to do this, as shown below:"
   ]
  },
  {
   "cell_type": "code",
   "execution_count": null,
   "metadata": {},
   "outputs": [],
   "source": [
    "plt.savefig(\"test_figure.png\", format = 'png')  # you can save an image of your plot\n",
    "# specifying the filename in the first argument\n",
    "\n",
    "plt.savefig(\"test_figure.svg\", format='svg', dpi=300)\n",
    "# you can also save as a 'pdf', 'svg', 'eps', or 'jpeg' file\n",
    "# you can specify the resolution to save at if you didn't change it before"
   ]
  },
  {
   "cell_type": "markdown",
   "metadata": {},
   "source": [
    "___\n",
    "\n",
    "# Take a break: what is your data telling you?\n",
    "Now that you've had a detailed look at your data set, it may be useful to reflect on what is notable or surprising about your data and how that fits with your hypothesis. You are encouraged to take a moment to put pen to paper and write down your thoughts. Remember that in the end you are using your data to tell a story about your hypothesis, but your data can often have their own story to tell.\n",
    "\n",
    "___"
   ]
  },
  {
   "cell_type": "markdown",
   "metadata": {},
   "source": [
    "<a id='stats'></a>\n",
    "\n",
    "# Calculations and Statistics\n",
    "\n",
    "There are basically endless amounts of maths and statistics you can do with python, but let's cover the basics. These are the most important for summarizing your data and performing your analysis.  \n",
    "\n",
    "This is not a statistics course, so you should only use statistical methods that you know inside and out since they almost always come with many assumptions.\n",
    "\n",
    "We already got to look at a little bit of taking means when we went over [reshaping numpy arrays](#nparrays), but here's more you can easily do to enrich your analysis:"
   ]
  },
  {
   "cell_type": "code",
   "execution_count": null,
   "metadata": {},
   "outputs": [],
   "source": [
    "from scipy import stats  # this package contains additional stats functions\n",
    "# remember you can type \"stats.\" and then press tab to check them all out\n",
    "\n",
    "data = np.array([1,2,3,4,1,6,2,3,2,1,4])\n",
    "\n",
    "#there are two ways to take a mean\n",
    "np.mean(data)  # one is a function in numpy\n",
    "data.mean()    # one is a method of an array\n",
    "\n",
    "#similarly, there are two ways to take the standard deviation\n",
    "np.std(data)\n",
    "data.std()\n",
    "\n",
    "np.median(data)  # median is a very useful statistic\n",
    "\n",
    "stats.mode(data)  # mode is an underrated statistic\n",
    "\n",
    "stats.iqr(data, rng=(5,95))  # inter-quantile range is a robust dispersion descriptor\n",
    "#the rng argument should be set to a sequence of quantiles, this case shows the range from 5% to 95% of the data\n",
    "\n",
    "# performing a linear regression is quick and easy, and provides you with several useful statistics!\n",
    "slope, intercept, r_value, p_value, std_err = stats.linregress(x, y)\n",
    "# see if you can make a plot using the slope and intercept!\n",
    "# you can use the r_value to look for correlations between your different measured variables\n",
    "\n",
    "# remember if you want to see the output to use the print() function"
   ]
  },
  {
   "cell_type": "markdown",
   "metadata": {},
   "source": [
    "There's so much you can do with stats if you're interested. Some additional references for functions: [descriptive stats](https://docs.scipy.org/doc/scipy/reference/stats.html#summary-statistics), [more tests](https://docs.scipy.org/doc/scipy/reference/stats.html#statistical-tests), and [correlations](https://docs.scipy.org/doc/scipy/reference/stats.html#correlation-functions).  \n",
    "\n",
    "Using means of your data can help to reduce the number of points in your figure, effectively summarizing important information. You'd need to figure out how many points to mean down to one point. Review the reshaping arrays section if you need help."
   ]
  },
  {
   "cell_type": "markdown",
   "metadata": {},
   "source": [
    "<a id='figures'></a>\n",
    "\n",
    "# Making more effective plots\n",
    "\n",
    "We already got a brief look at plotting in python, but now we're going to dive deeper. What and how you plot your data depends on your hypothesis and research questions. We'll go over various options and scenarios for plotting your data, and then you'll be able to create your own script for plotting your data the way you'd like it.\n"
   ]
  },
  {
   "cell_type": "markdown",
   "metadata": {},
   "source": [
    "Adjusting the range of the x and y axes is important. If you're comparing different plots, it can be vital to a reader's interpretation that you use the same y scale on each plot."
   ]
  },
  {
   "cell_type": "code",
   "execution_count": null,
   "metadata": {},
   "outputs": [],
   "source": [
    "plt.plot()\n",
    "\n",
    "plt.xlim(0, 40)  # set the range of x value shown, in x units\n",
    "plt.ylim(100, 1000)  # set the range of y values shown, in y units"
   ]
  },
  {
   "cell_type": "markdown",
   "metadata": {},
   "source": [
    "### Colour\n",
    "Colour is another very important aspect of plotting. As mentioned before, the plot function will automatically cycle through colours as you plot separate series of data. The colours used are from a colour-blind friendly set.  \n",
    "\n",
    "You can also manually choose from these colours using the __color__ argument and values of \"C0\", \"C1\", \"C2\", and so on.\n",
    "\n",
    "If you are interested in more ways to specify colour, check out [this page](https://matplotlib.org/3.1.0/tutorials/colors/colors.html) that lists them."
   ]
  },
  {
   "cell_type": "code",
   "execution_count": null,
   "metadata": {},
   "outputs": [],
   "source": [
    "# try changing the colour argument \n",
    "plt.plot(O3_rel_time, O3_vmr, color=\"C4\")"
   ]
  },
  {
   "cell_type": "markdown",
   "metadata": {},
   "source": [
    "### Legends\n",
    "Adding a legend to your plot when you're showing multiple series of data is easy. Add a __label__ argument to your plot function and then call plt.legend(). It will be automatically placed in the spot with least overlap with the data window. The label value must be a text string."
   ]
  },
  {
   "cell_type": "code",
   "execution_count": null,
   "metadata": {},
   "outputs": [],
   "source": [
    "plt.plot(O3_rel_time, O3_vmr, '.-', color=\"C0\", label=\"O3\")\n",
    "plt.plot(CO2_rel_time, CO2_vmr, '.-', color=\"C1\", label=\"CO2\")\n",
    "plt.legend()\n",
    "plt.show()"
   ]
  },
  {
   "cell_type": "markdown",
   "metadata": {},
   "source": [
    "### Vertical and horizontal lines\n",
    "Adding in vertical lines can be helpful for indicating separations or events in your timeseries.  \n",
    "Horizontal lines can be useful for indicating limits, minima, or threshold values"
   ]
  },
  {
   "cell_type": "code",
   "execution_count": null,
   "metadata": {},
   "outputs": [],
   "source": [
    "x_location = 1\n",
    "y_min = 0\n",
    "y_max = 1\n",
    "\n",
    "plt.vlines(x_location, y_min, y_max)  # this demonstrates the arguments used in the vlines function\n",
    "\n",
    "plt.vlines(2, 0, 1, linestyles='dashed') # you can also just add the numbers in directly\n",
    "# the linestyles argument can change it to \"dashed\" or \"dotted\", but the default is \"solid\""
   ]
  },
  {
   "cell_type": "code",
   "execution_count": null,
   "metadata": {},
   "outputs": [],
   "source": [
    "y_location = 1\n",
    "x_min = 0\n",
    "x_max = 1\n",
    "plt.hlines(y_location, x_min, x_max)\n",
    "\n",
    "plt.hlines(3, 0, 1, linestyles='dotted')"
   ]
  },
  {
   "cell_type": "markdown",
   "metadata": {},
   "source": [
    "### Shaded regions\n",
    "You can also create shaded rectangular areas on your graphs to indicate events occuring over a certain duration."
   ]
  },
  {
   "cell_type": "code",
   "execution_count": null,
   "metadata": {},
   "outputs": [],
   "source": [
    "x_min = 0\n",
    "x_max = 2.5\n",
    "plt.axvspan(x_min, x_max, alpha=0.1)"
   ]
  },
  {
   "cell_type": "markdown",
   "metadata": {},
   "source": [
    "### Gridlines\n",
    "If you want to indicate a regular time interval, you can consider using vertical gridlines; if you want to assist the viewer in distinguishing between y-values, you can consider using horizontal gridlines. If overused, gridlines can make your plot look cluttered, and sometimes the absence of gridlines can convey a professional quality."
   ]
  },
  {
   "cell_type": "code",
   "execution_count": null,
   "metadata": {},
   "outputs": [],
   "source": [
    "plt.plot([1,2,3,4], '.')\n",
    "\n",
    "\n",
    "plt.grid(axis=\"both\")  # creates gridlines on both x and y axes\n",
    "\n",
    "plt.grid(axis=\"x\")  # creates gridlines on x axis\n",
    "\n",
    "plt.grid(axis=\"y\")  #  creates gridlines on y axis"
   ]
  },
  {
   "cell_type": "markdown",
   "metadata": {},
   "source": [
    "### Filling between values\n",
    "Filling in a shaded region between values can be useful to indicate a range of values or some statistical information like a 95% confidence interval. Here is a small example:"
   ]
  },
  {
   "cell_type": "code",
   "execution_count": null,
   "metadata": {},
   "outputs": [],
   "source": [
    "x = np.arange(0,10)  # create a rang of x values\n",
    "y1 = x**3  \n",
    "y2 = x**2 - 10\n",
    "\n",
    "plt.plot(x, y1)\n",
    "plt.plot(x, y2)\n",
    "\n",
    "plt.fill_between(x, y1, y2, color = 'C5', alpha=0.3)\n",
    "# the alpha argument controls the transparency of the shaded region. Try changing it"
   ]
  },
  {
   "cell_type": "markdown",
   "metadata": {},
   "source": [
    "### Secondary y axis\n",
    "Sometimes you need to show data in two different ranges or different units, in which case you can use a secondary axis. Adding a secondary axis can be difficult to interpret though, so you should do this carefully. You'll need to manually specify the colour when you use the secondary axis."
   ]
  },
  {
   "cell_type": "code",
   "execution_count": null,
   "metadata": {},
   "outputs": [],
   "source": [
    "plt.plot([1,2,3,2],'.',color='C0')\n",
    "plt.ylabel(\"Data 1\")\n",
    "\n",
    "plt.twinx()  # this function switches the axis\n",
    "#everything you do will change the right side axis now, including how you add labels\n",
    "\n",
    "plt.plot([100,200,350,200],'.', color='C1')\n",
    "plt.ylabel(\"Data 2\")\n",
    "\n",
    "plt.show()"
   ]
  },
  {
   "cell_type": "markdown",
   "metadata": {},
   "source": [
    " If you add a legend to a plot with a secondary axis, making it is a certainly more complicated than before. See below for an example"
   ]
  },
  {
   "cell_type": "code",
   "execution_count": null,
   "metadata": {},
   "outputs": [],
   "source": [
    "lines1 = plt.plot([1,2,3,2],'.',color='C0', label=\"series 1\") # we'll need the variable stored in lines1 for the legend\n",
    "plt.ylabel(\"Data 1\")\n",
    "\n",
    "plt.twinx()  # this function switches the axis\n",
    "#everything you do will change the right side axis now, including how you add labels\n",
    "\n",
    "lines2 = plt.plot([100,200,350,200],'.', color='C1', label=\"series 2\") # we need lines2, just like lines1\n",
    "plt.ylabel(\"Data 2\")\n",
    "\n",
    "lines = lines1 + lines2  # combine the list of lines from the plot function\n",
    "labels = [l.get_label() for l in lines] # generate labels\n",
    "plt.legend(lines, labels) # create the legend with the lines and labels generated\n",
    "\n",
    "plt.show()"
   ]
  },
  {
   "cell_type": "markdown",
   "metadata": {},
   "source": [
    "### Using variable colour and size\n",
    "\n",
    "Sometimes you can show an additional dependent variable in your plot using the colour or size of the markers. Much like the secondary axis, this can be sometimes difficult to interpret, so make sure you're not overloading the plot with information.\n",
    "\n",
    "The __plt.scatter()__ function allows you to change the colour and size of the markers according to a variable. If you use colour, you'll need to include a colourbar to indicate what the colour map means. (The __colour map__ is the scale of colours used). Python automatically uses a \"perceptually uniform\" colour map, meaning the human eye won't interpret it incorrectly, since the change in the hue and intensity of the colour is uniform. You can read more about colour scales [here](https://colorcet.holoviz.org/). The names of these peceptually uniform colour scales are listed here:\n",
    "1. 'viridis'\n",
    "2. 'plasma'\n",
    "3. 'inferno'\n",
    "4. 'magma'\n",
    "5. 'cividis'"
   ]
  },
  {
   "cell_type": "code",
   "execution_count": null,
   "metadata": {},
   "outputs": [],
   "source": [
    "x = [1,2,3,4,5]\n",
    "y = [4,5,3,1,9]\n",
    "\n",
    "#the colours should be the other set of y-values you want to show\n",
    "colours = [1,2,6,5,3]\n",
    "\n",
    "# the scatter function takes the x and y data along with the colours and the colourmap name\n",
    "plt.scatter(x, y, c=colours, cmap='viridis')\n",
    "\n",
    "# this will display the colour bar, with label next to it\n",
    "plt.colorbar(label=\"Scale (units)\")"
   ]
  },
  {
   "cell_type": "markdown",
   "metadata": {},
   "source": [
    "Changing the size of the points in your scatter plot can also be a way of showing another value. This style can be difficult to interpret as well, especially quantitatively. You can set the area of the marker to be proportional to a value. If you set the size parameter to the square of the value, this effectively scales the radius of the points instead of the area. You can also set the size to an exponential for an even more dramatic visualization."
   ]
  },
  {
   "cell_type": "code",
   "execution_count": null,
   "metadata": {},
   "outputs": [],
   "source": [
    "x = [1,2,3,4,5]\n",
    "y = [6,5,3,2,8]\n",
    "\n",
    "sizes = np.array([4, 6, 8, 2, 12])\n",
    "\n",
    "plt.scatter(x, y, s=sizes)"
   ]
  },
  {
   "cell_type": "code",
   "execution_count": null,
   "metadata": {},
   "outputs": [],
   "source": [
    "plt.scatter(x, y, s=sizes**2)"
   ]
  },
  {
   "cell_type": "markdown",
   "metadata": {},
   "source": [
    "If you would like to use sizes more quantitatively, you can create a legend with points of different sizes corresponding to the values you'd like to represent."
   ]
  },
  {
   "cell_type": "code",
   "execution_count": null,
   "metadata": {},
   "outputs": [],
   "source": [
    "# first we'll create the point markers that will go inside the legend\n",
    "# this example has three points \n",
    "point0 = plt.scatter(0,0, s=2**2, color='C0')\n",
    "point1 = plt.scatter(0,0, s=5**2, color='C0')\n",
    "point2 = plt.scatter(0,0, s=10**2, color='C0')\n",
    "\n",
    "plt.clf() # this command will clear the figure that was automatically created by the above lines\n",
    "\n",
    "# the remaining lines will be where you'll create the actual plot\n",
    "\n",
    "fig, ax = plt.subplots()          # creates a new figure\n",
    "plt.scatter(x, y, s=sizes**2)     # the same kind of scatter plot as shown in the previous cell\n",
    "\n",
    "points = [point0, point1, point2]       # makes a list of the point markers\n",
    "labels = ['2 ppm', '5 ppm', '10 ppm']   # makes a list of labels for the legend\n",
    "plt.legend(points,labels)               # displays the legend with the points and labels"
   ]
  },
  {
   "cell_type": "markdown",
   "metadata": {},
   "source": [
    "### Log axes\n",
    "Does your data span a wide range and is difficult to show on a linear axis? You can consider using log axes. But you must use this power responsibly, since log axes can be difficult to interpret."
   ]
  },
  {
   "cell_type": "code",
   "execution_count": null,
   "metadata": {},
   "outputs": [],
   "source": [
    "# the semilogy function works just like the plot function, but automatically creates a log scale on the y axis\n",
    "x=[1,2,3,4]\n",
    "y=[4,40,400,500000]\n",
    "\n",
    "plt.semilogy(x, y, '.')"
   ]
  },
  {
   "cell_type": "markdown",
   "metadata": {},
   "source": [
    "### Box plots\n",
    "Box plots are often used to summarize the statistical view of the data. They are quite easy to make:"
   ]
  },
  {
   "cell_type": "code",
   "execution_count": null,
   "metadata": {},
   "outputs": [],
   "source": [
    "box_data = [CO2_vmr, O3_vmr] # make a list of the data series you'd like in the plot\n",
    "\n",
    "plt.boxplot(box_data, showmeans=True) # the show means argument can be True or False\n"
   ]
  },
  {
   "cell_type": "markdown",
   "metadata": {},
   "source": [
    "### Error Bars\n",
    "\n",
    "The __plt.errorbar()__ function will allow you to add error bars to your data set. It will also just plot your data for you. If you want to just make error bars without points, change the _markersize_ argument to zero."
   ]
  },
  {
   "cell_type": "code",
   "execution_count": null,
   "metadata": {},
   "outputs": [],
   "source": [
    "x_data = [1,2,3,4,5]\n",
    "y_data = [5,7,9,2,1]\n",
    "\n",
    "# these next lines will determine the magnitude of your error bars\n",
    "x_errors = 0\n",
    "y_errors = [1,4,2,1,0.2]\n",
    "\n",
    "\n",
    "# the errorbar function has a lot of arguments to play around with.\n",
    "# try changing ecolor and elinwidth and capsize\n",
    "# the xerr and yerr arguments are set to accept the error variables from above\n",
    "plt.errorbar(x_data, y_data, xerr = x_errors, yerr = y_errors, fmt='.', markersize = 8, ecolor='black', elinewidth = 1, capsize=2)"
   ]
  },
  {
   "cell_type": "markdown",
   "metadata": {},
   "source": [
    "<a id='maps'></a>\n",
    "\n",
    "# Map Plotting\n",
    "If your data has a geospatial component to it, you might be interested in looking at your data on a map. __If your data does not depend on location, you get to skip this part.__ Your TA has set up the following cells for you to use and make your maps. This requires special topographical files called shapefiles. Your TA can provide these for you, and you can upload them to your lab2 folder for use in the cell below."
   ]
  },
  {
   "cell_type": "code",
   "execution_count": null,
   "metadata": {},
   "outputs": [],
   "source": [
    "import geopandas as gpd    # this is the mapping package we'll use\n",
    "\n",
    "# the next two lines will load the shapefiles you uploaded\n",
    "toronto_map = gpd.read_file(\"./toronto-centreline-wgs84-latitude-longitude/CENTRELINE_WGS84.shp\")\n",
    "peel_map = gpd.read_file(\"./Street_Centre_Line-shp-Peel/StreetCentreLine.shp\")\n",
    "\n",
    "# the coordinate reference systems of these two maps are different,\n",
    "# so these next two lines makes them the same\n",
    "crs = toronto_map.crs\n",
    "peel_map = peel_map.to_crs(crs)\n",
    "\n",
    "print(\"Maps loaded.\")"
   ]
  },
  {
   "cell_type": "markdown",
   "metadata": {},
   "source": [
    "The following cell has some code your TA has prepared to make your mapping experience a little smoother. Mostly you need to change the plt.scatter() arguments to whatever data you want to plot."
   ]
  },
  {
   "cell_type": "code",
   "execution_count": null,
   "metadata": {},
   "outputs": [],
   "source": [
    "# the map plots only work in inline plotting mode\n",
    "%matplotlib inline   \n",
    "\n",
    "\n",
    "fig, ax = plt.subplots()    # creates a new figure\n",
    "fig.set_dpi(300)            # sets a high resolution\n",
    "\n",
    "\n",
    "# the next two lines plot the map data we loaded in the previous cell\n",
    "# you can try changing the color parameter and the linewidth parameter.\n",
    "# the zorder paramter forces these elements to be beneath anything else you plot above it\n",
    "toronto_map.plot(ax=ax, color='k', facecolor='w', linewidth=0.1, zorder=0)\n",
    "peel_map.plot(ax=ax, color='k', facecolor='w', linewidth=0.1, zorder=0)\n",
    "\n",
    "\n",
    "# make a scatter plot of your data below!\n",
    "# you need to change the arguments to meet your plotting needs\n",
    "# remember s will set the size and c will change the colours\n",
    "# cmap can set the colour map\n",
    "plt.scatter(longitudes, latitudes, s=5, c=pm2, marker='.')\n",
    "\n",
    "# add a colour bar\n",
    "# the shrink paramter can change the size relative to the figure\n",
    "plt.colorbar(shrink = 0.8, label=\"PM (units)\")\n",
    "\n",
    "\n",
    "# the next few lines set the x and y limits\n",
    "# this means it matches the latitude and longitude window of your data\n",
    "xmin = np.min(pm_longs) - 0.001         # find the smallest longitude\n",
    "xmax = np.max(pm_longs) + 0.001         # find the largest longitude\n",
    "ymin = np.min(pm_lats) - 0.001          # find the smallest latitude\n",
    "ymax = np.max(pm_lats) + 0.001          # find the largest latitude\n",
    "\n",
    "plt.xlim(xmin, xmax)\n",
    "plt.ylim(ymin, ymax)\n",
    "\n",
    "\n",
    "# the next few lines make sure the the longitude and latitude scales don't\n",
    "#  get distorted based on the size of your figure.\n",
    "x_dimension = 6.5     # this x dimension is in inches, you can set this however you like\n",
    "\n",
    "x_aspect_ratio = np.abs(xmin - xmax) / x_dimension     # find the ratio of longitude to inches\n",
    "y_dimension = np.abs(ymin - ymax) / x_aspect_ratio     # use the ratio to get the y dimension inches\n",
    "\n",
    "fig.set_size_inches(x_dimension, y_dimension)          # set the figure size\n",
    "\n",
    "\n",
    "plt.show()     # show your map!"
   ]
  },
  {
   "cell_type": "markdown",
   "metadata": {},
   "source": [
    "# Example of advanced plotting\n",
    "Below is am example of plotting more complicated things. You are not expected to recreate this. Just inspriration!"
   ]
  },
  {
   "cell_type": "code",
   "execution_count": null,
   "metadata": {},
   "outputs": [],
   "source": [
    "import numpy as np\n",
    "\n",
    "fig,ax = plt.subplots(figsize=(4,4))\n",
    "plt.rcParams.update({\"font.size\":12})\n",
    "fig.set_size_inches(6.5,3)\n",
    "fig.set_dpi(300)\n",
    "\n",
    "string = 'C2'\n",
    "boxprops = {'color':string,'alpha':0.3,'facecolor':string}\n",
    "whiskerprops = {'color':string,'alpha':0.7}\n",
    "capprops = {'color':string,'alpha':0.7}\n",
    "medianprops = {'color':string,'alpha':1.0}\n",
    "meanprops = {'marker':'.','color':string,'alpha':1.0,'markersize':2}\n",
    "flierprops = {'markeredgecolor':string,'alpha':0.5,'markersize':1}\n",
    "\n",
    "#length = 300\n",
    "#array = np.random.randn(length)\n",
    "end = (pm10.shape[0] % 100) * -1\n",
    "array = np.asarray(pm10[0:end])\n",
    "length = pm10[0:end].shape[0]\n",
    "\n",
    "#time = np.linspace(0,120,length)\n",
    "\n",
    "\n",
    "n_bins = int(length/100)\n",
    "print(n_bins)\n",
    "print(array.shape)\n",
    "binned_time = np.asarray(pm_rel_time[0:-14:100])\n",
    "\n",
    "binned_data = np.transpose(np.reshape(array, (n_bins,int(length/n_bins))))\n",
    "\n",
    "#binned_time = np.reshape(time, (n_bins,int(length/n_bins)))\n",
    "#binned_time = np.mean(binned_time, axis=1)\n",
    "\n",
    "print(binned_data.shape)\n",
    "print(binned_time.shape)\n",
    "\n",
    "plt.boxplot(binned_data, showmeans=True, patch_artist=True,\\\n",
    "           boxprops = boxprops, whiskerprops = whiskerprops, capprops = capprops,\\\n",
    "            medianprops = medianprops, meanprops = meanprops, flierprops = flierprops)\n",
    "\n",
    "from matplotlib.ticker import FormatStrFormatter\n",
    "plt.gca().xaxis.set_major_formatter(FormatStrFormatter('%1.f'))\n",
    "\n",
    "plt.show()\n"
   ]
  },
  {
   "cell_type": "markdown",
   "metadata": {},
   "source": [
    "<a id='saving'></a>\n",
    "\n",
    "# Saving your data\n",
    "The last important step is to export your data from this notebook to a csv file. You can save individual arrays like so:"
   ]
  },
  {
   "cell_type": "code",
   "execution_count": null,
   "metadata": {},
   "outputs": [],
   "source": [
    "save_filename = \"sample0.csv\"   # change this to a descriptive file name\n",
    "\n",
    "np.savetxt(save_filename, CO2_vmr, delimiter=',')\n",
    "#second argument should be the array you want to save"
   ]
  },
  {
   "cell_type": "markdown",
   "metadata": {},
   "source": [
    "Your TA has also included a function to save all your airbeam data and aeroqual data together in Lab2 Functions. If you've imported multiple data sets, you'll need to use multiple function calls and use the appropriate variable names."
   ]
  },
  {
   "cell_type": "code",
   "execution_count": null,
   "metadata": {},
   "outputs": [],
   "source": [
    "# change these to descriptive file names\n",
    "filename_pm = \"sample0.csv\"\n",
    "filename_CO2 = \"sample1.csv\"\n",
    "filename_O3 = \"sample2.csv\"\n",
    "\n",
    "\n",
    "#The following function will save your Airbeam2 data\n",
    "lab2.SaveAirbeam2(filename_pm, pm_datetimes, pm_rel_time, pm1, pm2, pm10, pm_temp, pm_rh)\n",
    "\n",
    "\n",
    "#The following function will save your Aeroqual monitor data\n",
    "lab2.SaveAeroqual(filename_CO2, CO2_datetimes, CO2_rel_time, CO2_vmr)\n",
    "\n",
    "lab2.SaveAeroqual(filename_O3, O3_datetimes, O3_rel_time, O3_vmr)"
   ]
  },
  {
   "cell_type": "markdown",
   "metadata": {},
   "source": [
    "Once you've run the save functions, your data should appear in the Lab2 folder on syzygy. From here you should select them using the check boxes on the left side of the list and click the download button."
   ]
  },
  {
   "cell_type": "markdown",
   "metadata": {},
   "source": [
    "<a id='free_space'></a>\n",
    "\n",
    "# Use the free cells below to make plots and do your analysis\n",
    "\n",
    "Remember you can add additional cells with the + button on the toolbar"
   ]
  },
  {
   "cell_type": "code",
   "execution_count": null,
   "metadata": {},
   "outputs": [],
   "source": []
  },
  {
   "cell_type": "code",
   "execution_count": null,
   "metadata": {},
   "outputs": [],
   "source": []
  },
  {
   "cell_type": "code",
   "execution_count": null,
   "metadata": {},
   "outputs": [],
   "source": []
  },
  {
   "cell_type": "code",
   "execution_count": null,
   "metadata": {},
   "outputs": [],
   "source": []
  },
  {
   "cell_type": "markdown",
   "metadata": {},
   "source": [
    "# Conclusion: making your plots work for you\n",
    "\n",
    "Now that you've made a customized plot, it may be helpful for the discussion in the synchronous session to begin reflecting on how your data presentation has changed from the initial plots to your latest figures. What changes did you make to emphasize the evidence for or against your hypothesis? What kind of story does your figure tell about the data? Again, you are encouraged to take a moment to write down your thoughts."
   ]
  }
 ],
 "metadata": {
  "kernelspec": {
   "display_name": "Python 3",
   "language": "python",
   "name": "python3"
  },
  "language_info": {
   "codemirror_mode": {
    "name": "ipython",
    "version": 3
   },
   "file_extension": ".py",
   "mimetype": "text/x-python",
   "name": "python",
   "nbconvert_exporter": "python",
   "pygments_lexer": "ipython3",
   "version": "3.6.10"
  }
 },
 "nbformat": 4,
 "nbformat_minor": 4
}
