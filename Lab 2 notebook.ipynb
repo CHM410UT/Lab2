{
 "cells": [
  {
   "cell_type": "markdown",
   "metadata": {},
   "source": [
    "# Laboratory Experiment 2: Measuring Markers of Polluted Air\n",
    "## CHM410 / CHM1410\n",
    "\n",
    "Welcome to the data analysis workshop for this experiment. We will be using this Jupyter notebook to gently dip our toes into the pool that is scientific computing. Your TA has set up this notebook ...  \n",
    "\n",
    "Here is an outline of what we'll be doing:  \n",
    "1. Introduction to programming with Python and using this notebook\n",
    "2. Accessing your data\n",
    "3. Making plots _part one_\n",
    "4. Manipulating your data\n",
    "5. Creating publication quality figures\n",
    "\n",
    "If you have prior experience with coding, Python, and/or Jupyter notebooks, feel free to take what you want from the following introduction.\n",
    "\n",
    "----"
   ]
  },
  {
   "cell_type": "markdown",
   "metadata": {},
   "source": [
    "### Just the basics\n",
    "Below this is a cell of code. Try running it by clicking inside the cell and then pressing __shift__ + __enter__ or clicking the __Run__ button on the toolbar at the top of the page. There is also a run button on the left of the cell that appears when your mouse hovers over the cell."
   ]
  },
  {
   "cell_type": "code",
   "execution_count": null,
   "metadata": {},
   "outputs": [],
   "source": [
    "print(\"Hello world\")"
   ]
  },
  {
   "cell_type": "markdown",
   "metadata": {},
   "source": [
    "You should see the printed phrase appear below the cell. Ultimately, this is what we use computers to do — provide us with output based on the input we give it. In order to get the expected output for our input, we are using a programming language called Python, and it is in fact a language! It has rules of syntax, grammar, and usage just like any human language. We're going to go over some basics of this language, just enough to get you used to looking at the code and making some changes. You'll learn enough to be able to make some great figures by the end!  \n",
    "\n",
    "---\n",
    "\n",
    "Your computer will try to interpret everything you tell it. So in programming you need to use language with precision, or else your code will give you an error. Try running the cells below to look at some errors."
   ]
  },
  {
   "cell_type": "code",
   "execution_count": null,
   "metadata": {},
   "outputs": [],
   "source": [
    "print(Hello world)"
   ]
  },
  {
   "cell_type": "code",
   "execution_count": null,
   "metadata": {},
   "outputs": [],
   "source": [
    "print \"Hello world\""
   ]
  },
  {
   "cell_type": "code",
   "execution_count": null,
   "metadata": {},
   "outputs": [],
   "source": [
    "print(\"Hello world)"
   ]
  },
  {
   "cell_type": "code",
   "execution_count": null,
   "metadata": {},
   "outputs": [],
   "source": [
    "pirnt(\"Hello world\")"
   ]
  },
  {
   "cell_type": "markdown",
   "metadata": {},
   "source": [
    "As you can see, there's not much forgiveness in doing something as simple as printing out a statement. We're going to go through a few Python concepts so you can figure out how to make your code run without errors.  "
   ]
  },
  {
   "cell_type": "markdown",
   "metadata": {},
   "source": [
    "### Comments\n",
    "\n",
    "Anyone who writes or uses code needs to know about comments. Comments are bits of text that programmers write into their code that your computer will ignore. Comments are incredibly important for understanding your own code and interpretting other people's code, and it is also useful for making your computer ignore some lines of code you don't want to use right now.  \n",
    "\n",
    "Comments are denoted with the __\\#__ symbol. Anything that appears in the line after the \\# symbol will be ignored by your computer. Look at the examples below to see how it works."
   ]
  },
  {
   "cell_type": "code",
   "execution_count": null,
   "metadata": {},
   "outputs": [],
   "source": [
    "# This is a comment\n",
    "print(\"This is not a comment\") # but this is a comment!"
   ]
  },
  {
   "cell_type": "markdown",
   "metadata": {},
   "source": [
    "As mentioned above, comments are important for communication, but are also just useful to \"turn off\" certain lines of code. We sometimes call this \"commenting out\" these lines of code. Try commenting out some lines in the code below by adding in the \\# symbol."
   ]
  },
  {
   "cell_type": "code",
   "execution_count": null,
   "metadata": {},
   "outputs": [],
   "source": [
    "var = 5 # this is a variable, which you'll see in the next example\n",
    "# if you comment out the line above, the rest of the code will give you an error.\n",
    "\n",
    "var = var + 8\n",
    "\n",
    "print(var)\n",
    "\n",
    "var += 18\n",
    "var -= 36\n",
    "\n",
    "print(var)\n",
    "\n",
    "var = var**2\n",
    "\n",
    "print(var)"
   ]
  },
  {
   "cell_type": "markdown",
   "metadata": {},
   "source": [
    "### Declaring variables\n",
    "\n",
    "A variable is a place that Python stores information in. Variables are useful not only to store information, but also to make shortcuts for yourself. Continuing with the example we've been using..."
   ]
  },
  {
   "cell_type": "code",
   "execution_count": null,
   "metadata": {},
   "outputs": [],
   "source": [
    "statement = \"Hello world\"\n",
    "\n",
    "print(statement)"
   ]
  },
  {
   "cell_type": "markdown",
   "metadata": {},
   "source": [
    "We have stored some information in the variable named \"statement\" and then used that to tell your computer to print out the output. We declare the variable following the rule:  \n",
    "\n",
    "_variable name_ __=__ _information_  \n",
    "\n",
    "And once we've done that we can just use the variable name to refer to the information stored in it. We can store new information in the variable, but this will destroy the old information."
   ]
  },
  {
   "cell_type": "code",
   "execution_count": null,
   "metadata": {},
   "outputs": [],
   "source": [
    "var = 5\n",
    "print(var)\n",
    "var = 6\n",
    "print(var)"
   ]
  },
  {
   "cell_type": "markdown",
   "metadata": {},
   "source": [
    "We can also modify the information in the variable as we please. Python uses arithmetic operators similarly to how you might use them in an Excel formula. Check out the examples below. Feel free to test them out for yourself!"
   ]
  },
  {
   "cell_type": "code",
   "execution_count": null,
   "metadata": {},
   "outputs": [],
   "source": [
    "var0 = 5\n",
    "var1 = 13\n",
    "\n",
    "var0 + 2\n",
    "var0 + var1\n",
    "var0 - 5\n",
    "var1 / 2\n",
    "var1 * 2\n",
    "var0**2 # this is an exponent\n",
    "\n",
    "#There are also some convenient ways to do arithmetic and overwrite a variable at the same time\n",
    "var0 = 5\n",
    "var0 += 6 # this will add 6 to the value of var0 and store it in var0\n",
    "print(var0)"
   ]
  },
  {
   "cell_type": "markdown",
   "metadata": {},
   "source": [
    "### Types of information\n",
    "\n",
    "The concept of _type_ is important to understanding a lot of issues you may face when programming. A _type_ is a specific kind of information. Python will interpret types in different ways. We can think of this in terms of different kinds of data. Some data are integers, some data are text, some data are decimals, et cetera. Try running the code below to see these _types_.\n"
   ]
  },
  {
   "cell_type": "code",
   "execution_count": null,
   "metadata": {},
   "outputs": [],
   "source": [
    "# using the type() command will have the compute tell you what type of information is inside the parentheses\n",
    "\n",
    "print(type(1)) # this 1 is an integer\n",
    "print(type(1.0)) # this is called a float, which is basically a decimal number\n",
    "print(type(\"1.0\")) # this is called a string, which is interpretted as text\n",
    "#strings are created by placing quote marks around the information"
   ]
  },
  {
   "cell_type": "markdown",
   "metadata": {},
   "source": [
    "#### Lists\n",
    "Next we'll look at some other very useful types that are a little more complicated.  \n",
    "A _list_ is an array of data, in a certain order. The data in a list can be many different types."
   ]
  },
  {
   "cell_type": "code",
   "execution_count": null,
   "metadata": {},
   "outputs": [],
   "source": [
    "numbers = [1, 2, 3] # a list is made by placing information inside square brackets. The data are separated with commas\n",
    "print(numbers)\n",
    "print(type(numbers))\n",
    "\n",
    "elements = [\"H\", \"He\", \"Li\"] # the data in this array are all strings (text)\n",
    "print(elements)\n",
    "\n",
    "mixture = [1, \"He\", 3.14] # the data in this array are of various types"
   ]
  },
  {
   "cell_type": "markdown",
   "metadata": {},
   "source": [
    "One of the important properties of arrays is called _indexing_. Each entry in the list has a position. By convention, computer scientists count from zero. Your knowledge of this fact can be used to impress your computer scientist friends.  \n",
    "\n",
    "By telling the computer to use a certain _index_, you can access specific entries in your list. The syntax for _indexing_ is done with square brackets:\n",
    "\n",
    "_list name_\\[__index__\\]  \n",
    "\n",
    "Check out the example below. Try changing the index to access different entries in your list.  \n",
    "Try changing the index to a number larger than the number of entries in the list, remembering we start at zero!\n",
    "Try changing the index to -1 and to other negative numbers."
   ]
  },
  {
   "cell_type": "code",
   "execution_count": null,
   "metadata": {},
   "outputs": [],
   "source": [
    "elements = [\"H\", \"He\", \"Li\", \"Be\", \"B\"]\n",
    "\n",
    "entry = elements[3] # the index appears inside the square brackets\n",
    "\n",
    "print(entry)"
   ]
  },
  {
   "cell_type": "code",
   "execution_count": null,
   "metadata": {},
   "outputs": [],
   "source": [
    "numbers = [1, 2, 3, 4, 5]\n",
    "\n",
    "entry = numbers[0:2]\n",
    "\n",
    "print(entry)"
   ]
  },
  {
   "cell_type": "code",
   "execution_count": null,
   "metadata": {},
   "outputs": [],
   "source": [
    "numbers = [1, 2, 3, 4, 5]\n",
    "elements = [\"H\", \"He\", \"Li\", \"Be\", \"B\"]\n",
    "\n",
    "entry = elements[numbers[0]]\n",
    "\n",
    "print(entry)"
   ]
  },
  {
   "cell_type": "markdown",
   "metadata": {},
   "source": [
    "#### Dictionaries"
   ]
  },
  {
   "cell_type": "markdown",
   "metadata": {},
   "source": [
    "### Packages"
   ]
  },
  {
   "cell_type": "markdown",
   "metadata": {},
   "source": [
    "## Loading your data"
   ]
  },
  {
   "cell_type": "code",
   "execution_count": null,
   "metadata": {},
   "outputs": [],
   "source": [
    "import pandas as pd\n",
    "pd.read_csv()"
   ]
  }
 ],
 "metadata": {
  "kernelspec": {
   "display_name": "Python 3",
   "language": "python",
   "name": "python3"
  },
  "language_info": {
   "codemirror_mode": {
    "name": "ipython",
    "version": 3
   },
   "file_extension": ".py",
   "mimetype": "text/x-python",
   "name": "python",
   "nbconvert_exporter": "python",
   "pygments_lexer": "ipython3",
   "version": "3.5.6"
  }
 },
 "nbformat": 4,
 "nbformat_minor": 4
}
