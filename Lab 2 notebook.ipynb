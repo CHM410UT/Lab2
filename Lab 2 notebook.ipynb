{
 "cells": [
  {
   "cell_type": "markdown",
   "metadata": {},
   "source": [
    "# Laboratory Experiment 2: Measuring Markers of Polluted Air\n",
    "## CHM410 / CHM1410\n",
    "\n",
    "Welcome to the data analysis workshop for this experiment. We will be using this Jupyter notebook to gently dip our toes into the pool that is scientific computing.  \n",
    "\n",
    "Here is an outline of what we'll be doing:  \n",
    "1. Introduction to programming with Python and using this notebook\n",
    "2. Accessing your data\n",
    "3. Making plots _part one_\n",
    "4. Manipulating your data\n",
    "5. Creating publication quality figures\n",
    "\n",
    "If you have prior experience with coding, Python, and/or Jupyter notebooks, feel free to take what you want from the following introduction and move on to the second section.\n",
    "\n",
    "----"
   ]
  },
  {
   "cell_type": "markdown",
   "metadata": {},
   "source": [
    "### Just the basics\n",
    "Below this is a cell of code. Try running it by clicking inside the cell and then pressing __shift__ + __enter__ or clicking the __Run__ button on the toolbar at the top of the page. There is also a run button on the left of the cell that appears when your mouse hovers over the cell."
   ]
  },
  {
   "cell_type": "code",
   "execution_count": null,
   "metadata": {},
   "outputs": [],
   "source": [
    "print(\"Hello world\")"
   ]
  },
  {
   "cell_type": "markdown",
   "metadata": {},
   "source": [
    "You should see the printed phrase appear below the cell. Ultimately, this is what we use computers to do — provide us with output based on the input we give it. In order to get the expected output for our input, we are using a programming language called Python, and it is in fact a language! It has rules of syntax, grammar, and usage just like any human language. We're going to go over some basics of this language, just enough to get you used to looking at the code and making some changes. You'll learn enough to be able to make some great figures by the end!  \n",
    "\n",
    "---\n",
    "\n",
    "Your computer will try to interpret everything you tell it. So in programming you need to use language with precision, or else your code will give you an error. Try running the cells below to look at some errors."
   ]
  },
  {
   "cell_type": "code",
   "execution_count": null,
   "metadata": {},
   "outputs": [],
   "source": [
    "print(Hello world)"
   ]
  },
  {
   "cell_type": "code",
   "execution_count": null,
   "metadata": {},
   "outputs": [],
   "source": [
    "print \"Hello world\""
   ]
  },
  {
   "cell_type": "code",
   "execution_count": null,
   "metadata": {},
   "outputs": [],
   "source": [
    "print(\"Hello world)"
   ]
  },
  {
   "cell_type": "code",
   "execution_count": null,
   "metadata": {},
   "outputs": [],
   "source": [
    "pirnt(\"Hello world\")"
   ]
  },
  {
   "cell_type": "markdown",
   "metadata": {},
   "source": [
    "As you can see, there's not much forgiveness in doing something as simple as printing out a statement. We're going to go through a few Python concepts so you can figure out how to make your code run without errors.  "
   ]
  },
  {
   "cell_type": "markdown",
   "metadata": {},
   "source": [
    "### Comments\n",
    "\n",
    "Anyone who writes or uses code needs to know about comments. Comments are bits of text that programmers write into their code that your computer will ignore. Comments are incredibly important for understanding your own code and interpretting other people's code, and it is also useful for making your computer ignore some lines of code you don't want to use right now.  \n",
    "\n",
    "Comments are denoted with the __\\#__ symbol. Anything that appears in the line after the \\# symbol will be ignored by your computer. Look at the examples below to see how it works."
   ]
  },
  {
   "cell_type": "code",
   "execution_count": null,
   "metadata": {},
   "outputs": [],
   "source": [
    "# This is a comment\n",
    "print(\"This is not a comment\") # but this is a comment!"
   ]
  },
  {
   "cell_type": "markdown",
   "metadata": {},
   "source": [
    "As mentioned above, comments are important for communication, but are also just useful to \"turn off\" certain lines of code. We sometimes call this \"commenting out\" these lines of code. Try commenting out some lines in the code below by adding in the \\# symbol."
   ]
  },
  {
   "cell_type": "code",
   "execution_count": null,
   "metadata": {},
   "outputs": [],
   "source": [
    "var = 5 # this is a variable, which you'll see in the next example\n",
    "# if you comment out the line above, the rest of the code will give you an error.\n",
    "\n",
    "var = var + 8\n",
    "\n",
    "print(var)\n",
    "\n",
    "var += 1\n",
    "var -= 3\n",
    "\n",
    "print(var)\n",
    "\n",
    "var = var**2\n",
    "\n",
    "print(var)"
   ]
  },
  {
   "cell_type": "markdown",
   "metadata": {},
   "source": [
    "The rest of this notebook contains really helpful information in the comments. Feel free to add your own comments in wherever you'd like!"
   ]
  },
  {
   "cell_type": "markdown",
   "metadata": {},
   "source": [
    "### Declaring variables\n",
    "\n",
    "A variable is a place that Python stores information in. Variables are useful not only to store information, but also to make shortcuts for yourself. Continuing with the example we've been using..."
   ]
  },
  {
   "cell_type": "code",
   "execution_count": null,
   "metadata": {},
   "outputs": [],
   "source": [
    "statement = \"Hello world\"\n",
    "\n",
    "print(statement)"
   ]
  },
  {
   "cell_type": "markdown",
   "metadata": {},
   "source": [
    "We have stored some information in the variable named \"statement\" and then used that to tell your computer to print out the output. We declare the variable following the rule:  \n",
    "\n",
    "_variable name_ __=__ _information_  \n",
    "\n",
    "The name always goes to the left of the equal sign. Once we've declared the variable, we can just use the variable name to refer to the information stored in it. We can store new information in the same variable, but this will destroy the old information."
   ]
  },
  {
   "cell_type": "code",
   "execution_count": null,
   "metadata": {},
   "outputs": [],
   "source": [
    "var = 5\n",
    "print(var)\n",
    "var = 6\n",
    "print(var)"
   ]
  },
  {
   "cell_type": "markdown",
   "metadata": {},
   "source": [
    "We can also modify the information in the variable as we please. Python uses arithmetic operators similarly to how you might use them in an Excel formula. Check out the examples below. Feel free to test them out for yourself!"
   ]
  },
  {
   "cell_type": "code",
   "execution_count": null,
   "metadata": {},
   "outputs": [],
   "source": [
    "var0 = 5\n",
    "var1 = 13\n",
    "\n",
    "var0 = var0 + 2\n",
    "var0 = var0 + var1\n",
    "var0 = var0 - 5\n",
    "\n",
    "print(\"var0 = %f\" % (var0))\n",
    "\n",
    "var1 = var1 / 2\n",
    "var1 = var1 * 3\n",
    "var1 = var1**2 # this is an exponent\n",
    "print(\"var1 = %f\" % (var1))\n",
    "\n",
    "\n",
    "#There are also some convenient ways to do arithmetic and overwrite a variable at the same time\n",
    "var0 = 5\n",
    "var0 += 6 # this will add 6 to the value of var0 and store it in var0\n",
    "print(var0)"
   ]
  },
  {
   "cell_type": "markdown",
   "metadata": {},
   "source": [
    "### Types of information\n",
    "\n",
    "The concept of _type_ is important to understanding a lot of issues you may face when programming. A _type_ is a specific kind of information. Python will interpret types in different ways. We can think of this in terms of different kinds of data. Some data are integers, some data are text, some data are decimals, et cetera. Try running the code below to see these _types_.\n"
   ]
  },
  {
   "cell_type": "code",
   "execution_count": null,
   "metadata": {},
   "outputs": [],
   "source": [
    "# using the type() command will have the computer tell you what type of information is inside the parentheses\n",
    "\n",
    "print(type(1)) # this 1 is an integer\n",
    "\n",
    "print(type(1.0)) # this is called a float, which is basically a decimal number\n",
    "\n",
    "print(type(\"1.0\")) # this is called a string, which is interpretted as text\n",
    "#strings are created by placing quote marks around the information"
   ]
  },
  {
   "cell_type": "markdown",
   "metadata": {},
   "source": [
    "#### Lists\n",
    "Next we'll look at some other very useful types that are a little more complicated.  \n",
    "A _list_ is an array of data, in a certain order. The data in a list can be many different types."
   ]
  },
  {
   "cell_type": "code",
   "execution_count": null,
   "metadata": {},
   "outputs": [],
   "source": [
    "numbers = [1, 2, 3] # a list is made by placing information inside square brackets. The data are separated with commas\n",
    "print(numbers)\n",
    "print(type(numbers))\n",
    "\n",
    "elements = [\"H\", \"He\", \"Li\"] # the data in this array are all strings (text)\n",
    "print(elements)\n",
    "\n",
    "mixture = [1, \"He\", 3.14] # the data in this array are of various types"
   ]
  },
  {
   "cell_type": "markdown",
   "metadata": {},
   "source": [
    "One of the important properties of lists is called _indexing_. Each entry in the list has a position. By convention, computer scientists count from zero. Your knowledge of this fact can be used to impress your computer scientist friends.  \n",
    "\n",
    "By telling the computer to use a certain _index_, you can access specific entries in your list. The syntax for _indexing_ is done with square brackets:\n",
    "\n",
    "_list name_\\[__index__\\]  \n",
    "\n",
    "Check out the example below. Try changing the index to access different entries in your list.  \n",
    "Try changing the index to a number larger than the number of entries in the list, remembering we start at zero!\n",
    "Try changing the index to -1 and to other negative numbers."
   ]
  },
  {
   "cell_type": "code",
   "execution_count": null,
   "metadata": {},
   "outputs": [],
   "source": [
    "elements = [\"H\", \"He\", \"Li\", \"Be\", \"B\"]\n",
    "\n",
    "entry = elements[3] # the index appears inside the square brackets\n",
    "\n",
    "print(entry)"
   ]
  },
  {
   "cell_type": "markdown",
   "metadata": {},
   "source": [
    "We can index across a list to get many parts of the list at once. This action is sometimes called a \"slice\". The syntax for a slice is:  \n",
    "\n",
    "_list name_\\[__start:end__\\]\n",
    "\n",
    "The value in the list at the __end__ position will not be included in the slice. Check out the example below to see how slicing works. Try changing the numbers in the slice."
   ]
  },
  {
   "cell_type": "code",
   "execution_count": null,
   "metadata": {},
   "outputs": [],
   "source": [
    "numbers = [1, 2, 3, 4, 5]\n",
    "\n",
    "entry = numbers[1:4] # this slice will include the values at positions 0 and 1, but nothing at 2 or after\n",
    "\n",
    "print(entry)"
   ]
  },
  {
   "cell_type": "markdown",
   "metadata": {},
   "source": [
    "Understanding lists and indexes opens up a lot of possibilities. The example in the cell below shows how you can use the integers in one list (\"numbers\") as indices for another list (\"elements\")."
   ]
  },
  {
   "cell_type": "code",
   "execution_count": null,
   "metadata": {},
   "outputs": [],
   "source": [
    "numbers = [1, 2, 3, 4, 5]\n",
    "elements = [\"H\", \"He\", \"Li\", \"Be\", \"B\"]\n",
    "\n",
    "entry = elements[numbers[0]]\n",
    "\n",
    "print(entry)"
   ]
  },
  {
   "cell_type": "markdown",
   "metadata": {},
   "source": [
    "#### Dictionaries\n",
    "\n",
    "Dictionaries are another very convenient way to store and organize information. They are sometimes called lookup tables or hash maps. The basic idea is that you have a structure composed of keys and values, where each key has one value attached to it. Dictionary is an apt analogy as each word (each key) has a definition (a value), and you can look up values based on the key.  \n",
    "\n",
    "Let's see what they look like in practice."
   ]
  },
  {
   "cell_type": "code",
   "execution_count": null,
   "metadata": {},
   "outputs": [],
   "source": [
    "# We can make a dictionary using curly brackets, and a series of key-value pairs\n",
    "d = {\"H\":1.008, \"He\":4.0026, \"Li\":6.94, \"Be\":9.0122}  # Each pair consists of key:value\n",
    "\n",
    "# To look up a value, we use similar syntax as with lists, but instead of an index we use a key\n",
    "print(d[\"Li\"])\n",
    "# Try changing the key"
   ]
  },
  {
   "cell_type": "markdown",
   "metadata": {},
   "source": [
    "Any type of data can be a value, like lists, strings, or even another dictionary.  \n",
    "Most often, keys are strings, but they can be other types as well.  \n",
    "\n",
    "Have a look at the example below."
   ]
  },
  {
   "cell_type": "code",
   "execution_count": null,
   "metadata": {},
   "outputs": [],
   "source": [
    "positive = [1,2,3,4]\n",
    "negative = [-1,-2,-3,-4]\n",
    "decimals = [0.1, 0.2, 0.3, 0.4]     # here we have created three lists\n",
    "\n",
    "numbers = {\"pos\":positive, \"neg\":negative, \"dec\":decimals}   # and now we have put those lists in a dictionary\n",
    "\n",
    "print(numbers[\"neg\"]) # the key \"neg\" returns to us the full list we made\n",
    "\n",
    "print(numbers[\"neg\"][2]) # we can further narrow down our data by including an index for that list\n",
    "\n",
    "#Try printing out the last entry of the decimals list in this space below\n",
    "\n",
    "\n",
    "\n"
   ]
  },
  {
   "cell_type": "markdown",
   "metadata": {},
   "source": [
    "### Packages\n",
    "\n",
    "Now that we have an understanding of some of the basics, we can find out how to make the most of our coding experience. We could spend hours and hours manipulating the basic structures to give us our desired output, or we can rely on other smart people who have already done a lot of the work for us!  \n",
    "\n",
    "Packages are bodies of code that we can use to make our work faster and more convenient. There are many, many packages in Python for all kinds of applications. We'll be looking at and using some common science packages.  \n",
    "\n",
    "First let's learn how to use them! Ordinarily, you would first need to check to make sure a package is installed on your computer, but the University's Jupyter notebook service comes with many already installed. Thanks, IT department!  \n",
    "\n",
    "We need to \"import\" the package before we can use any of the contents."
   ]
  },
  {
   "cell_type": "code",
   "execution_count": null,
   "metadata": {},
   "outputs": [],
   "source": [
    "import math          # here we imported the \"math\" package\n",
    "import numpy as np   # here we imported a package called \"numpy\" and gave it a shorthand name for convenience"
   ]
  },
  {
   "cell_type": "code",
   "execution_count": null,
   "metadata": {},
   "outputs": [],
   "source": [
    "# Package contents can be accessed using a . and the name of the particular function you'd like to use\n",
    "print(math.log(4))\n",
    "\n",
    "# Ok try it out! In the space below, type in \"math.\"\n",
    "# and then press the tab key. This will show you all the contents of the package available!\n",
    "# Choose some different ones by pressing enter or clicking on them and see if you can get them to work\n",
    "# Make sure you add a print() statement around it to see the output\n",
    "\n",
    "\n",
    "\n",
    "\n",
    "# Packages open up the possibilities of powerful computations\n",
    "sample_array = np.arange(0,100) # Here we have used the numpy package to produce a list of numbers from 0 to 99\n",
    "\n",
    "print(sample_array)\n",
    "\n",
    "print(np.sum(sample_array)) # numpy has many mathematical functions that make it easy to do operations on lists of numbers\n",
    "\n",
    "\n",
    "# Try it out again! Type in \"np.\"\n",
    "# and then press the tab key. What a long list of contents... too much to go through for today\n",
    "\n",
    "\n",
    "\n",
    "\n"
   ]
  },
  {
   "cell_type": "markdown",
   "metadata": {},
   "source": [
    "That's the end of this introduction to Python. In the next section you'll get to actually work with your data and make some visualizations, using what you learned so far. Much of the code you need has been written for you; you'll need to make some adjustments to names, indexes, etc. and commenting/uncommenting lines of code as you need them."
   ]
  },
  {
   "cell_type": "markdown",
   "metadata": {},
   "source": [
    "## Loading your data\n",
    "\n",
    "Before we go further, you'll need to upload your data onto the Jupyter hub. Go back to your browser tab where the folder __Lab2.git__ is open. In the upper right corner there is an __Upload__ button. Click and use your system dialog to select the files you'd like to use. These should be the raw data provided in the .csv file format. Your data files should then appear in the list of files.  \n",
    "\n",
    "\n",
    "We'll be loading your data into a structure called a _dataframe_. It's like a _dictionary_ but has some added functionality. The package we'll use for this is called _pandas_. [Consult wikipedia](https://en.wikipedia.org/wiki/Pandas_(software)) if you're wondering why it's called that.  \n",
    "\n",
    "In the cell below, please change the variable called \"filename\" to the exact name of your Airbeam data file. Other than that, the cell is already set up to load your data."
   ]
  },
  {
   "cell_type": "code",
   "execution_count": null,
   "metadata": {},
   "outputs": [],
   "source": [
    "# import pandas package\n",
    "import pandas as pd\n",
    "\n",
    "filename = \"sample.csv\" # Change this file name to match the one you'd like to use\n",
    "\n",
    "df_pm = pd.read_csv(filename, header=0, skiprows=[0,1])\n",
    "\n",
    "print(df_pm.columns) # this prints the names of the columns in your data set. Very handy if you forget what they are.\n",
    "print(df_pm.head(5)) # this prints the first five rows of your data set. Even more handy, perhaps!\n",
    "\n",
    "# The line below turns the date and time provided by the instrument into data that your computer can interpret.\n",
    "df_pm['datetime'] = pd.to_datetime(df_pm['Timestamp'],format=\"%Y-%m-%dT%H:%M:%S.%f-0400\")\n",
    "\n",
    "# There is now a column of data called \"datetime\" with this data in it. This is your time data.\n",
    "print(df_pm.head(5))"
   ]
  },
  {
   "cell_type": "markdown",
   "metadata": {},
   "source": [
    "As you may have noticed in the cell above, we can refer to the columns of data by typing the name of the dataframe and the name of the column in brackets.  For example:\n",
    "\n",
    "__data frame variable name__\\[_\"column name\"_\\]  \n",
    "\n",
    "df_pm\\[\"geo:lat\"\\] gives us the list of data from the latitude column.  \n",
    "\n",
    "Next, we'll quickly try plotting some of these data to make sure our data loading code is working. Exciting! The next cell of code is set up to plot your data in an interactive window. It should pop up on your screen, or you may have to click on the new window to see it. There are tools in the interactive window for you to zoom in and move about, as well as to adjust some of the appearance."
   ]
  },
  {
   "cell_type": "code",
   "execution_count": null,
   "metadata": {},
   "outputs": [],
   "source": [
    "# The matplotlib package is a ubiquitous Python plotting package. \n",
    "# It also has helpful code for dealing with different kinds of data, such as dates\n",
    "import matplotlib.pyplot as plt\n",
    "import matplotlib.dates as mdates\n",
    "\n",
    "\n",
    "# These next lines determine how the plot will appear on your computer.\n",
    "# Comment and uncomment the lines starting with \"%\" to try them out\n",
    "# The next line is a bit of magic that makes the plot appear in a new interactive window\n",
    "%matplotlib qt \n",
    "# This next line will make the plot appear in the page, but you won't be able to interact with it.\n",
    "#%matplotlib inline     \n",
    "\n",
    "\n",
    "# These next lines are the actual plotting code.\n",
    "fig,ax = plt.subplots()                          # This creates a blank canvas to plot on\n",
    "plt.plot(df_pm['datetime'],df_pm['Value'],'.-')  # This \"plot\" function is what puts your data on the figure\n",
    "formatter = mdates.DateFormatter(\"%H:%M:%S\")     # This line and the next format the time data\n",
    "ax.xaxis.set_major_formatter(formatter)\n",
    "plt.show()                                       # This line displays the plot"
   ]
  },
  {
   "cell_type": "markdown",
   "metadata": {},
   "source": [
    "The plt.plot function used above is very powerful and you'll be using it a bit going forward. The usage is:  \n",
    "\n",
    "plt.plot(__x axis data__, __y axis data__, _symbol code_)  \n",
    "\n",
    "the symbol code can change how the data appear on your figure. Try changing it to the following and replotting.  \n",
    "'x'  \n",
    "'--'  \n",
    "'x--g'  \n",
    "\n",
    "___\n",
    "Let's load the rest of your data into data frames. The next two cells are set up similarly to the one above. You'll need to change the file name. The airbeam data, CO2 data, and the O3 data are all formatted slightly differently, so make sure you're using the cells for each as indicated.  "
   ]
  },
  {
   "cell_type": "code",
   "execution_count": null,
   "metadata": {},
   "outputs": [],
   "source": [
    "# Use this cell for loading CO2 monitor data\n",
    "\n",
    "filename = \"Outside adventures CO2.csv\"\n",
    "\n",
    "df_CO2 = pd.read_csv(filename, header=0, skipinitialspace=True)\n",
    "\n",
    "print(df_CO2.columns)\n",
    "print(df_CO2.head(5))\n",
    "df_CO2['datetime'] = pd.to_datetime(df_CO2['Date Time'],format=\"%d %b %Y %H:%M\")"
   ]
  },
  {
   "cell_type": "code",
   "execution_count": null,
   "metadata": {},
   "outputs": [],
   "source": [
    "# Use this cell for loading O3 montior data\n",
    "\n",
    "filename = \"Outside adventures O3.csv\"\n",
    "\n",
    "df_O3 = pd.read_csv(filename, header=0, skipinitialspace=True)\n",
    "\n",
    "print(df_O3.columns)\n",
    "print(df_O3.head(5))\n",
    "df_O3['datetime'] = pd.to_datetime(df_O3['Date Time'],format=\"%d/%m/%Y %H:%M\")"
   ]
  },
  {
   "cell_type": "markdown",
   "metadata": {},
   "source": [
    "If you have more data you'd like to load, the lines you need just to do that are in the next cell. You don't need to use this cell if you don't have more data. You'll need to change the filename, and you should change the variable name of the data frame from \"df\" to something a little more descriptive. Uncomment/comment lines as you need them."
   ]
  },
  {
   "cell_type": "code",
   "execution_count": null,
   "metadata": {},
   "outputs": [],
   "source": [
    "filename = \"sample.csv\"\n",
    "\n",
    "\n",
    "# for loading Airbeam pm data\n",
    "df = pd.read_csv(filename, header=0, skiprows=[0,1])\n",
    "df['datetime'] = pd.to_datetime(df['Timestamp'],format=\"%Y-%m-%dT%H:%M:%S.%f-0400\")\n",
    "\n",
    "\n",
    "# for loading CO2 data\n",
    "df = pd.read_csv(filename, header=0, skipinitialspace=True)\n",
    "df['datetime'] = pd.to_datetime(df['Date Time'],format=\"%d %b %Y %H:%M\")\n",
    "\n",
    "\n",
    "# for loading O3 data\n",
    "df = pd.read_csv(filename, header=0, skipinitialspace=True)\n",
    "df['datetime'] = pd.to_datetime(df['Date Time'],format=\"%d/%m/%Y %H:%M\")"
   ]
  },
  {
   "cell_type": "markdown",
   "metadata": {},
   "source": [
    "## Plotting your data  \n",
    "We already got a brief look at plotting, but now we're going to dive deeper. What and how you plot your data depends on your hypothesis and research questions. We'll go over various options and scenarios for plotting your data, and then you'll be able to create your own script for plotting your data the way you'd like it."
   ]
  },
  {
   "cell_type": "code",
   "execution_count": null,
   "metadata": {},
   "outputs": [],
   "source": []
  }
 ],
 "metadata": {
  "kernelspec": {
   "display_name": "Python 3",
   "language": "python",
   "name": "python3"
  },
  "language_info": {
   "codemirror_mode": {
    "name": "ipython",
    "version": 3
   },
   "file_extension": ".py",
   "mimetype": "text/x-python",
   "name": "python",
   "nbconvert_exporter": "python",
   "pygments_lexer": "ipython3",
   "version": "3.5.6"
  }
 },
 "nbformat": 4,
 "nbformat_minor": 4
}
